{
 "cells": [
  {
   "cell_type": "code",
   "execution_count": 5,
   "metadata": {},
   "outputs": [],
   "source": [
    "from tkinter import *"
   ]
  },
  {
   "cell_type": "code",
   "execution_count": 7,
   "metadata": {},
   "outputs": [],
   "source": [
    "def iCalc(source, side):\n",
    "    storeObj = Frame(source, borderwidth=4, bd=4, bg=\"powder blue\")\n",
    "    storeObj.pack(side=side, expand =YES, fill =BOTH)\n",
    "    return storeObj\n",
    " \n",
    "def button(source, side, text, command=None):\n",
    "    storeObj = Button(source, text=text, command=command)\n",
    "    storeObj.pack(side=side, expand = YES, fill=BOTH)\n",
    "    return storeObj\n",
    " \n",
    "class app(Frame):\n",
    "    def __init__(self):\n",
    "        Frame.__init__(self)\n",
    "        self.option_add('*Font', 'arial 20 bold')\n",
    "        self.pack(expand = YES, fill =BOTH)\n",
    "        self.master.title('Calculator')\n",
    " \n",
    "        display = StringVar()\n",
    "        Entry(self, relief=RIDGE, textvariable=display,\n",
    "          justify='right'\n",
    "          , bd=30, bg=\"powder blue\").pack(side=TOP,\n",
    "                                          expand=YES, fill=BOTH)\n",
    " \n",
    "        for clearButton in ([\"C\"]):\n",
    "            erase = iCalc(self, TOP)\n",
    "            for ichar in clearButton:\n",
    "                button(erase, LEFT, ichar, lambda\n",
    "                    storeObj=display, q=ichar: storeObj.set(''))\n",
    " \n",
    "        for numButton in (\"789/\", \"456*\", \"123-\", \"0.+\"):\n",
    "         FunctionNum = iCalc(self, TOP)\n",
    "         for iEquals in numButton:\n",
    "            button(FunctionNum, LEFT, iEquals, lambda\n",
    "                storeObj=display, q=iEquals: storeObj\n",
    "                   .set(storeObj.get() + q))\n",
    " \n",
    "        EqualButton = iCalc(self, TOP)\n",
    "        for iEquals in \"=\":\n",
    "            if iEquals == '=':\n",
    "                btniEquals = button(EqualButton, LEFT, iEquals)\n",
    "                btniEquals.bind('<ButtonRelease-1>', lambda e,s=self,\n",
    "                                storeObj=display: s.calc(storeObj), '+')\n",
    " \n",
    " \n",
    "            else:\n",
    "                btniEquals = button(EqualButton, LEFT, iEquals,\n",
    "                                    lambda storeObj=display, s=' %s ' % iEquals: storeObj.set\n",
    "                                    (storeObj.get() + s))\n",
    " \n",
    "    def calc(self, display):\n",
    "            try:\n",
    "                display.set(eval(display.get()))\n",
    "            except:\n",
    "                display.set(\"ERROR\")\n",
    " \n",
    " \n",
    "if __name__=='__main__':\n",
    " app().mainloop()"
   ]
  },
  {
   "cell_type": "code",
   "execution_count": null,
   "metadata": {},
   "outputs": [],
   "source": []
  },
  {
   "cell_type": "code",
   "execution_count": null,
   "metadata": {},
   "outputs": [],
   "source": []
  }
 ],
 "metadata": {
  "kernelspec": {
   "display_name": "Python 3",
   "language": "python",
   "name": "python3"
  },
  "language_info": {
   "codemirror_mode": {
    "name": "ipython",
    "version": 3
   },
   "file_extension": ".py",
   "mimetype": "text/x-python",
   "name": "python",
   "nbconvert_exporter": "python",
   "pygments_lexer": "ipython3",
   "version": "3.8.3"
  }
 },
 "nbformat": 4,
 "nbformat_minor": 4
}
